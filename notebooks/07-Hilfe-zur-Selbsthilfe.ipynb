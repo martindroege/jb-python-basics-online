{
 "cells": [
  {
   "cell_type": "markdown",
   "id": "5a6ecb72-3b27-4d92-a8a0-05fb65760656",
   "metadata": {
    "cell_id": "00099-747cdd2a-0626-4b91-9ef7-787f438f1037",
    "deepnote_cell_type": "markdown",
    "tags": []
   },
   "source": [
    "# Hilfe zur Selbsthilfe\n",
    "\n",
    "## Tutorials\n",
    "\n",
    "[learnpython.org](https://www.learnpython.org/)\n",
    "\n",
    "[https://realpython.com/](https://realpython.com/)\n",
    "\n",
    "[https://docs.python.org/3/tutorial/](https://docs.python.org/3/tutorial/)\n",
    "\n",
    "[https://www.python-kurs.eu/](https://www.python-kurs.eu/)\n",
    "\n",
    "[https://programminghistorian.org/lessons/?topic=python](https://programminghistorian.org/lessons/?topic=python)\n",
    "\n",
    "## Links\n",
    "\n",
    "[https://www.python.org/doc/](https://www.python.org/doc/)\n",
    "\n",
    "[https://www.python.org/community/](https://www.python.org/community/)\n",
    "\n",
    "[https://www.python-forum.de/](https://www.python-forum.de/)\n",
    "\n",
    "[https://stackoverflow.com/](https://stackoverflow.com/)\n",
    "\n",
    "## Bücher: Online\n",
    "\n",
    "[https://automatetheboringstuff.com/](https://automatetheboringstuff.com/)\n",
    "\n",
    "[https://www.nltk.org/book/](https://www.nltk.org/book/)\n",
    "\n",
    "## offene Fragen\n",
    "\n",
    "## Feedback-Runde\n",
    "\n",
    "## Zum Abschluss\n",
    "\n",
    "[What people think programming is vs. how it actually is](https://www.youtube.com/watch?v=HluANRwPyNo)"
   ]
  },
  {
   "cell_type": "code",
   "execution_count": null,
   "id": "76a1e1c1-3444-4d84-a597-e03a155f94ca",
   "metadata": {},
   "outputs": [],
   "source": []
  }
 ],
 "metadata": {
  "kernelspec": {
   "display_name": "base2exp",
   "language": "python",
   "name": "base2exp"
  },
  "language_info": {
   "codemirror_mode": {
    "name": "ipython",
    "version": 3
   },
   "file_extension": ".py",
   "mimetype": "text/x-python",
   "name": "python",
   "nbconvert_exporter": "python",
   "pygments_lexer": "ipython3",
   "version": "3.8.12"
  }
 },
 "nbformat": 4,
 "nbformat_minor": 5
}
