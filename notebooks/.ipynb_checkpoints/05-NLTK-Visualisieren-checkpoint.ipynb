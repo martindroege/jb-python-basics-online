{
 "cells": [
  {
   "cell_type": "markdown",
   "id": "92e47905-e79b-404a-b15e-2554a01f0aa8",
   "metadata": {
    "cell_id": "00081-c66ae3b2-94bd-42c9-b8c9-437efb4de4da",
    "deepnote_cell_type": "markdown",
    "tags": []
   },
   "source": [
    "# NLTK und Worthäufigkeiten visualisieren\n",
    "\n",
    "## collections"
   ]
  },
  {
   "cell_type": "code",
   "execution_count": null,
   "id": "c832874b-bc13-4bb3-8707-ac5e94156352",
   "metadata": {
    "cell_id": "00082-d5370b48-b7ee-4a56-8b9f-44e2339cfe27",
    "deepnote_cell_type": "code",
    "deepnote_to_be_reexecuted": false,
    "execution_millis": 0,
    "execution_start": 1614340576625,
    "source_hash": "e838d391",
    "tags": []
   },
   "outputs": [],
   "source": [
    "from collections import Counter\n",
    "\n",
    "freq = Counter(grundgesetz_words)"
   ]
  },
  {
   "cell_type": "code",
   "execution_count": null,
   "id": "14baaf6c-fc0c-4566-82f7-c18fe40635ec",
   "metadata": {
    "cell_id": "00083-8ed32b41-8d95-4900-93fe-c92d7d4ab615",
    "deepnote_cell_type": "code",
    "deepnote_to_be_reexecuted": false,
    "execution_millis": 15,
    "execution_start": 1614337116960,
    "source_hash": "cfa9e78",
    "tags": []
   },
   "outputs": [
    {
     "data": {
      "text/plain": [
       "collections.Counter"
      ]
     },
     "execution_count": 21,
     "metadata": {},
     "output_type": "execute_result"
    }
   ],
   "source": [
    "type(freq)"
   ]
  },
  {
   "cell_type": "code",
   "execution_count": null,
   "id": "b92f6144-03b1-494a-9f3c-31ce6964f20d",
   "metadata": {
    "cell_id": "00081-a0386e29-75a3-40d1-9264-ef6ccf90198a",
    "deepnote_cell_type": "code",
    "deepnote_to_be_reexecuted": false,
    "execution_millis": 11,
    "execution_start": 1614337134290,
    "source_hash": "fea95fed",
    "tags": []
   },
   "outputs": [
    {
     "data": {
      "text/plain": [
       "[('artikel', 263),\n",
       " ('1', 219),\n",
       " ('2', 201),\n",
       " ('3', 131),\n",
       " ('länder', 112),\n",
       " ('absatz', 98),\n",
       " ('zustimmung', 96),\n",
       " ('bundesrates', 95),\n",
       " ('bund', 85),\n",
       " ('bundesregierung', 84),\n",
       " ('soweit', 80),\n",
       " ('bundesgesetz', 78),\n",
       " ('bundes', 73),\n",
       " ('gesetz', 65),\n",
       " ('4', 65),\n",
       " ('bundestages', 58),\n",
       " ('ländern', 57),\n",
       " ('bundestag', 55),\n",
       " ('bedarf', 46),\n",
       " ('satz', 43),\n",
       " ('gemeinden', 42),\n",
       " ('mehrheit', 41),\n",
       " ('5', 39),\n",
       " ('gesetze', 39),\n",
       " ('bestimmt', 39)]"
      ]
     },
     "execution_count": 22,
     "metadata": {},
     "output_type": "execute_result"
    }
   ],
   "source": [
    "freq.most_common(25)"
   ]
  },
  {
   "cell_type": "markdown",
   "id": "33b8f8a3-7dd3-4d00-b49a-65d49c3ca706",
   "metadata": {
    "cell_id": "00084-b6d36f7f-4bc3-4e2b-a2a6-ab451712d984",
    "deepnote_cell_type": "markdown",
    "tags": []
   },
   "source": [
    "## NLTK"
   ]
  },
  {
   "cell_type": "code",
   "execution_count": null,
   "id": "cff36c8c-1afc-4746-b62a-dbed1f6b3949",
   "metadata": {
    "cell_id": "00084-d06b6432-596e-4a26-8708-774ebdb27078",
    "deepnote_cell_type": "code",
    "deepnote_to_be_reexecuted": false,
    "execution_millis": 564,
    "execution_start": 1616767932152,
    "source_hash": "7c8c3232",
    "tags": []
   },
   "outputs": [
    {
     "name": "stderr",
     "output_type": "stream",
     "text": [
      "[nltk_data] Downloading package punkt to /root/nltk_data...\n",
      "[nltk_data]   Unzipping tokenizers/punkt.zip.\n"
     ]
    }
   ],
   "source": [
    "import nltk\n",
    "from nltk.tokenize import word_tokenize\n",
    "nltk.download('punkt')\n",
    "\n",
    "with open('grundgesetz.txt', 'r', encoding='utf-8') as infile:\n",
    "    text_raw = infile.read()\n",
    "\n",
    "text = text_raw.lower()\n",
    "text = word_tokenize(text)\n",
    "text = nltk.Text(text) "
   ]
  },
  {
   "cell_type": "markdown",
   "id": "29b49b69-32f9-4089-80ad-842deb9bda3a",
   "metadata": {
    "cell_id": "00086-eafbedf2-f805-4a4d-ae59-5818b95d8f83",
    "deepnote_cell_type": "markdown",
    "tags": []
   },
   "source": [
    "## concordance"
   ]
  },
  {
   "cell_type": "code",
   "execution_count": null,
   "id": "15e9bfa2-2801-4542-b725-9acc3ffe5faa",
   "metadata": {
    "cell_id": "00087-86489a12-21bd-44ea-924b-405a525e67b8",
    "deepnote_cell_type": "code",
    "deepnote_to_be_reexecuted": false,
    "execution_millis": 21,
    "execution_start": 1616767940769,
    "source_hash": "13cc28bd",
    "tags": []
   },
   "outputs": [
    {
     "name": "stdout",
     "output_type": "stream",
     "text": [
      "Displaying 25 of 85 matches:\n",
      "artikel 10 absatz 2 satz 2 bleibt unberührt . ii der bund und die länder artikel 20 ( 1 ) die bundesrepublik d\n",
      "vergleichbaren grundrechtsschutz gewährleistet . der bund kann hierzu durch gesetz mit zustimmung des bundesra\n",
      "n der länder berührt sind oder soweit im übrigen der bund das recht zur gesetzgebung hat , berücksichtigt die \n",
      " ausgabenerhöhungen oder einnahmeminderungen für den bund führen können , ist die zustimmung der bundesregieru\n",
      " mitgliedstaat der europäischen union zustehen , vom bund auf einen vom bundesrat benannten vertreter der länd\n",
      "immung des bundesrates bedarf . artikel 24 ( 1 ) der bund kann durch gesetz hoheitsrechte auf zwischenstaatlic\n",
      "hbarschaftliche einrichtungen übertragen . ( 2 ) der bund kann sich zur wahrung des friedens einem system gege\n",
      "regelung zwischenstaatlicher streitigkeiten wird der bund vereinbarungen über eine allgemeine , umfassende , o\n",
      "de wirtschaftskraftbezogene steuerquelle . ( 3 ) der bund gewährleistet , daß die verfassungsmäßige ordnung de\n",
      "3. artikel 59 ( 1 ) der bundespräsident vertritt den bund völkerrechtlich . er schließt im namen des bundes di\n",
      "s bestimmt ist . ( 2 ) er übt im einzelfalle für den bund das begnadigungsrecht aus . ( 3 ) er kann diese befu\n",
      "ht . ( 2 ) die abgrenzung der zuständigkeit zwischen bund und ländern bemißt sich nach den vorschriften dieses\n",
      "e befugnis zur gesetzgebung , solange und soweit der bund von seiner gesetzgebungszuständigkeit nicht durch ge\n",
      " nicht durch gesetz gebrauch gemacht hat . ( 2 ) der bund hat in diesem bereich das gesetzgebungsrecht , wenn \n",
      "rch landesrecht ersetzt werden kann . artikel 73 der bund hat die ausschließliche gesetzgebung über : 1. die a\n",
      "er zustimmung des bundesrates . artikel 75 ( 1 ) der bund hat das recht , unter den voraussetzungen des artike\n",
      "bar geltende regelungen enthalten . ( 3 ) erläßt der bund rahmenvorschriften , so sind die länder verpflichtet\n",
      "e zu allen behörden entsenden . artikel 86 führt der bund die gesetze durch bundeseigene verwaltung oder durch\n",
      "undestages errichtet werden . artikel 87 a ( 1 ) der bund stellt streitkräfte zur verteidigung auf . ihre zahl\n",
      "s eigene angelegenheit übertragen werden . ( 2 ) der bund nimmt die über den bereich der eisenbahnen des bunde\n",
      "eit der anteile an diesen unternehmen verbleibt beim bund . das nähere wird durch bundesgesetz geregelt . ( 4 \n",
      " nähere wird durch bundesgesetz geregelt . ( 4 ) der bund gewährleistet , daß dem wohl der allgemeinheit , ins\n",
      "ustimmung des bundesrates bedarf , gewährleistet der bund im bereich des postwesens und der telekommunikation \n",
      " . ( 3 ) unbeschadet des absatzes 2 satz 2 führt der bund in der rechtsform einer bundesunmittelbaren anstalt \n",
      "ch maßgabe eines bundesgesetzes aus . artikel 88 der bund errichtet eine währungs- und notenbank als bundesban\n"
     ]
    }
   ],
   "source": [
    "text.concordance(\"bund\", width=110)"
   ]
  },
  {
   "cell_type": "markdown",
   "id": "113e01f3-63ea-4e1b-9d48-4908b4f4e8ae",
   "metadata": {
    "cell_id": "00087-49759d5f-82e9-4da0-bc2a-24d419da581d",
    "deepnote_cell_type": "markdown",
    "tags": []
   },
   "source": [
    "## similar"
   ]
  },
  {
   "cell_type": "code",
   "execution_count": null,
   "id": "35ba7d0d-da8f-4b92-9068-4c5225ec03b3",
   "metadata": {
    "cell_id": "00089-7d04c7ea-eedd-46e3-ae3d-c066dfab035b",
    "deepnote_cell_type": "code",
    "deepnote_to_be_reexecuted": false,
    "execution_millis": 137,
    "execution_start": 1614337416593,
    "source_hash": "82a6444a",
    "tags": []
   },
   "outputs": [
    {
     "name": "stdout",
     "output_type": "stream",
     "text": [
      "bestimmungen gesetzgebung stelle grundsätze zustimmung mitglieder die\n",
      "von feststellung artikel vor einheit grundrechte würde rechte aus\n",
      "vorschriften pflege fürsorge teilnahme\n"
     ]
    }
   ],
   "source": [
    "text.similar(\"freiheit\")"
   ]
  },
  {
   "cell_type": "markdown",
   "id": "19ad79b7-b6f5-478c-ba97-6bb9469c3d2c",
   "metadata": {
    "cell_id": "00088-ff80da02-4416-455a-859f-150a65873b81",
    "deepnote_cell_type": "markdown",
    "tags": []
   },
   "source": [
    "## dispersion plot"
   ]
  },
  {
   "cell_type": "code",
   "execution_count": null,
   "id": "4233d586-3d97-412b-88dc-180486c69500",
   "metadata": {
    "cell_id": "00091-a005c800-07be-41af-99cd-bd559428573c",
    "deepnote_cell_type": "code",
    "deepnote_to_be_reexecuted": false,
    "execution_millis": 99,
    "execution_start": 1614337481842,
    "source_hash": "f3eb6548",
    "tags": []
   },
   "outputs": [
    {
     "data": {
      "image/png": "[encoded data removed]",
      "text/plain": [
       "<Figure size 432x288 with 1 Axes>"
      ]
     },
     "metadata": {
      "needs_background": "light"
     },
     "output_type": "display_data"
    }
   ],
   "source": [
    "text.dispersion_plot([\"artikel\", \"gesetz\", \"freiheit\", 'bundespräsident', 'bundeskanzler'])"
   ]
  },
  {
   "cell_type": "code",
   "execution_count": null,
   "id": "2dbde42b-5c30-4c84-89e0-b61e10a9b616",
   "metadata": {
    "cell_id": "00084-43b8a93e-5b10-4874-9b72-1944017e21a4",
    "deepnote_cell_type": "code",
    "deepnote_to_be_reexecuted": false,
    "execution_millis": 22,
    "execution_start": 1614340140529,
    "source_hash": "bfc0ddb6",
    "tags": []
   },
   "outputs": [],
   "source": [
    "import pandas as pd\n",
    "import seaborn as sns\n",
    "import matplotlib.pyplot as plt"
   ]
  },
  {
   "cell_type": "code",
   "execution_count": null,
   "id": "2a368e06-46e9-4d61-ac4d-1d8035003c68",
   "metadata": {
    "cell_id": "00085-5204ad18-3d96-41d9-bb41-8beb001420f5",
    "deepnote_cell_type": "code",
    "deepnote_to_be_reexecuted": false,
    "execution_millis": 1,
    "execution_start": 1614340589538,
    "source_hash": "220d1464",
    "tags": []
   },
   "outputs": [],
   "source": [
    "df = pd.DataFrame(freq.items(), columns=['word', 'count'])\n",
    "df = df.sort_values(by='count', ascending=False)\n",
    "df_top_25 = df.head(25)"
   ]
  },
  {
   "cell_type": "code",
   "execution_count": null,
   "id": "2a536b0c-6183-4ba9-89dc-b863f3241b99",
   "metadata": {
    "cell_id": "00089-4725b378-7779-4ce3-bd5a-7c8c7d7b9073",
    "deepnote_cell_type": "code",
    "deepnote_to_be_reexecuted": false,
    "execution_millis": 365,
    "execution_start": 1614340829433,
    "source_hash": "32fd5c84",
    "tags": []
   },
   "outputs": [
    {
     "data": {
      "image/png": "[encoded data removed]",
      "text/plain": [
       "<Figure size 864x576 with 1 Axes>"
      ]
     },
     "metadata": {
      "needs_background": "light"
     },
     "output_type": "display_data"
    }
   ],
   "source": [
    "fig, ax = plt.subplots(figsize=(12,8))\n",
    "\n",
    "sns.barplot(x='word', y='count', data=df_top_25, ax=ax)\n",
    "ax.set_xticklabels(labels=df_top_25.loc[:, 'word'], rotation=45, ha='right');"
   ]
  }
 ],
 "metadata": {
  "kernelspec": {
   "display_name": "base2exp",
   "language": "python",
   "name": "base2exp"
  },
  "language_info": {
   "codemirror_mode": {
    "name": "ipython",
    "version": 3
   },
   "file_extension": ".py",
   "mimetype": "text/x-python",
   "name": "python",
   "nbconvert_exporter": "python",
   "pygments_lexer": "ipython3",
   "version": "3.8.12"
  }
 },
 "nbformat": 4,
 "nbformat_minor": 5
}
