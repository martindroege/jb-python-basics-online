{
 "cells": [
  {
   "cell_type": "markdown",
   "id": "f3ffb19e-1e53-43f8-9fe5-69fd2859595c",
   "metadata": {
    "cell_id": "00089-99357d9c-f7cf-49ce-baa8-15164ca54082",
    "deepnote_cell_type": "markdown",
    "tags": []
   },
   "source": [
    "# Web Scraping\n",
    "\n",
    "## Ziel des Web Scraping\n",
    "\n",
    "* Posts vom Blog der AG Digitale Geschichtswissenschaft bei hypotheses.org\n",
    "* [https://digigw.hypotheses.org/](https://digigw.hypotheses.org/)\n",
    "\n",
    "## Zutaten für das Skript\n",
    "\n",
    "* Webseite aufrufen\n",
    "* html erfassen\n",
    "* html parsen\n",
    "* Text extrahieren\n",
    "* Text in Datei speichern\n",
    "* Datei benennen\n",
    "\n",
    "## Inspektion der Webseite\n",
    "\n",
    "* Gibt es eine serielle URL?\n",
    "* Wie ist diese aufgebaut?\n",
    "* In welchem html-div findet sich Text?\n",
    "\n",
    "## serielle URL\n",
    "\n",
    "[https://digigw.hypotheses.org/3653](https://digigw.hypotheses.org/3653)\n",
    "\n",
    "## Webseiten Inspektor\n",
    "\n",
    "**STRG + SHIFT + I**\n",
    "\n",
    "<!-- ## Ansicht Inspektor\n",
    "\n",
    "<img src=\"\n",
    "../images/snapshot_inspector.png\" alt=\"Drawing\" style=\"width:\n",
    "700px;\"/> -->\n",
    "\n",
    "## Bausteine des Skripts I\n",
    "\n",
    "* Import der benötigten Module und Bibliotheken\n",
    "* URL-Root einrichten Variablen benennen\n",
    "* Startseite bzw. Indexseite anfragen\n",
    "* html in Variable speichern\n",
    "* IDs der Blogposts aus html extrahieren\n",
    "* IDs der Blogposts in Liste speichern\n",
    "* for-Schleife zur wiederholten Anwendung\n",
    "\n",
    "## Bausteine des Skripts II\n",
    "\n",
    "* aus der Liste der IDs URL zusammensetzen und anfragen\n",
    "* html in Variable speichern\n",
    "* Text des Posts aus html extrahieren\n",
    "* Text in Datei speichern\n",
    "* for-Schleife zur wiederholten Anwendung\n",
    "\n",
    "## Import der Module"
   ]
  },
  {
   "cell_type": "code",
   "execution_count": 1,
   "id": "4d818a58-cab5-49a8-be74-31b113621a09",
   "metadata": {
    "cell_id": "00093-c01b49b3-f4dc-4926-8f97-b9db0cb4c4b1",
    "deepnote_cell_type": "code",
    "deepnote_to_be_reexecuted": false,
    "execution_millis": 35,
    "execution_start": 1614338279422,
    "source_hash": "8dc8df12",
    "tags": []
   },
   "outputs": [
    {
     "ename": "ModuleNotFoundError",
     "evalue": "No module named 'bs4'",
     "output_type": "error",
     "traceback": [
      "\u001b[1;31m---------------------------------------------------------------------------\u001b[0m",
      "\u001b[1;31mModuleNotFoundError\u001b[0m                       Traceback (most recent call last)",
      "\u001b[1;32m~\\AppData\\Local\\Temp/ipykernel_13708/572897712.py\u001b[0m in \u001b[0;36m<module>\u001b[1;34m\u001b[0m\n\u001b[0;32m      1\u001b[0m \u001b[1;32mimport\u001b[0m \u001b[0mrequests\u001b[0m\u001b[1;33m\u001b[0m\u001b[1;33m\u001b[0m\u001b[0m\n\u001b[0;32m      2\u001b[0m \u001b[1;32mimport\u001b[0m \u001b[0mtime\u001b[0m\u001b[1;33m\u001b[0m\u001b[1;33m\u001b[0m\u001b[0m\n\u001b[1;32m----> 3\u001b[1;33m \u001b[1;32mfrom\u001b[0m \u001b[0mbs4\u001b[0m \u001b[1;32mimport\u001b[0m \u001b[0mBeautifulSoup\u001b[0m\u001b[1;33m\u001b[0m\u001b[1;33m\u001b[0m\u001b[0m\n\u001b[0m",
      "\u001b[1;31mModuleNotFoundError\u001b[0m: No module named 'bs4'"
     ]
    }
   ],
   "source": [
    "import requests\n",
    "import time\n",
    "from bs4 import BeautifulSoup"
   ]
  },
  {
   "cell_type": "markdown",
   "id": "067036a5-7c30-47f6-b942-5386c5dc332f",
   "metadata": {
    "cell_id": "00093-f1e7ad96-013d-4a94-ba24-953b951b0ffb",
    "deepnote_cell_type": "markdown",
    "tags": []
   },
   "source": [
    "## URL-Root und Variablen"
   ]
  },
  {
   "cell_type": "code",
   "execution_count": null,
   "id": "eb2bcce8-ee1f-4598-bb96-3f2fe5b39cdc",
   "metadata": {
    "cell_id": "00095-4cfa01a8-f477-460f-86bf-671beae311dd",
    "deepnote_cell_type": "code",
    "deepnote_to_be_reexecuted": false,
    "execution_millis": 1,
    "execution_start": 1614338293730,
    "source_hash": "6536c82f",
    "tags": []
   },
   "outputs": [],
   "source": [
    "url_root = 'https://digigw.hypotheses.org/'\n",
    "blog_ID_list = []\n",
    "article_length_list = []"
   ]
  },
  {
   "cell_type": "markdown",
   "id": "4b70b78f-ba20-411d-80cb-1d9bc94f85ec",
   "metadata": {
    "cell_id": "00095-7ab89892-3933-46f0-a8ea-09bd3c8275fe",
    "deepnote_cell_type": "markdown",
    "tags": []
   },
   "source": [
    "## Schleife IDs"
   ]
  },
  {
   "cell_type": "code",
   "execution_count": null,
   "id": "878baf3b-8799-497f-be2b-59ddbf1b901a",
   "metadata": {
    "cell_id": "00097-e058e267-d8b3-4ab8-9a96-3ff6348eb30e",
    "deepnote_cell_type": "code",
    "deepnote_to_be_reexecuted": false,
    "execution_millis": 11051,
    "execution_start": 1614338608934,
    "source_hash": "93268e4e",
    "tags": []
   },
   "outputs": [],
   "source": [
    "for x in range(1,3):\n",
    "    url = url_root + 'page/' + str(x)\n",
    "\n",
    "    response = requests.get(url)\n",
    "    response = response.text\n",
    "    soup = BeautifulSoup(response, 'html.parser')\n",
    "\n",
    "    blog_IDs = soup.find_all('h2', {'class': 'entry-title'})  \n",
    "\n",
    "    for element in blog_IDs:\n",
    "        blog_ID = element.find('a')['href']\n",
    "        blog_ID = blog_ID.split('/')\n",
    "        blog_ID = blog_ID[3]\n",
    "        blog_ID_list.append(blog_ID)  \n",
    "\n",
    "    time.sleep(5)"
   ]
  },
  {
   "cell_type": "code",
   "execution_count": null,
   "id": "d7c1b28f-47da-49bd-99f0-a7d2d418cc15",
   "metadata": {
    "cell_id": "00099-f206848e-7792-46ae-aed5-8c4cebaf2913",
    "deepnote_cell_type": "code",
    "deepnote_to_be_reexecuted": false,
    "execution_millis": 16,
    "execution_start": 1614338675455,
    "source_hash": "3d0dffd8",
    "tags": []
   },
   "outputs": [
    {
     "data": {
      "text/plain": [
       "['3658',\n",
       " '3668',\n",
       " '3673',\n",
       " '3664',\n",
       " '3679',\n",
       " '3683',\n",
       " '3688',\n",
       " '3692',\n",
       " '3721',\n",
       " '3698',\n",
       " '3712',\n",
       " '3705',\n",
       " '3658',\n",
       " '3653',\n",
       " '3650',\n",
       " '3645',\n",
       " '3640',\n",
       " '3635',\n",
       " '3607',\n",
       " '3592',\n",
       " '3550']"
      ]
     },
     "execution_count": 32,
     "metadata": {},
     "output_type": "execute_result"
    }
   ],
   "source": [
    "blog_ID_list"
   ]
  },
  {
   "cell_type": "markdown",
   "id": "6017ef8e-03d6-4442-8eb6-c922808c4b8f",
   "metadata": {
    "cell_id": "00098-6e66ad59-8f6e-4a95-ae1a-5a502f54e71a",
    "deepnote_cell_type": "markdown",
    "tags": []
   },
   "source": [
    "## Schleife Text"
   ]
  },
  {
   "cell_type": "code",
   "execution_count": null,
   "id": "df00bc29-d1d1-4bfc-a09b-2ae22888fa56",
   "metadata": {
    "cell_id": "00099-ae0c91b1-6f0d-434a-85d2-ee86bfb8a9c1",
    "deepnote_cell_type": "code",
    "deepnote_to_be_reexecuted": false,
    "execution_millis": 25857,
    "execution_start": 1614339074638,
    "source_hash": "b2c5fe9f",
    "tags": []
   },
   "outputs": [],
   "source": [
    "# create new folder data-blog-posts\n",
    "\n",
    "for x in blog_ID_list[:3]:  \n",
    "\n",
    "    try:\n",
    "        response = requests.get(url_root + str(x))\n",
    "        response = response.text \n",
    "        soup = BeautifulSoup(response, \"html.parser\")\n",
    "\n",
    "        article_text = soup.find(attrs={\"class\": \"entry-content\"}).text.strip()\n",
    "\n",
    "        article_length_list.append(len(article_text))\n",
    "\n",
    "        with open(r'./data-blog-posts/digigw-blog_' + str(x) + '.txt', 'w', encoding='utf-8') as infile: # create data-folder\n",
    "            infile.write(article_text)\n",
    "\n",
    "        time.sleep(8)\n",
    "\n",
    "    except:\n",
    "        continue"
   ]
  },
  {
   "cell_type": "markdown",
   "id": "1b7cae27-8d31-447b-ba1e-83347ba75f5f",
   "metadata": {
    "cell_id": "00100-9ccb8fd2-9d8e-4a3e-a5f9-537959ba5fca",
    "deepnote_cell_type": "markdown",
    "tags": []
   },
   "source": [
    "## Ausgabe der Ergebnisse"
   ]
  },
  {
   "cell_type": "code",
   "execution_count": null,
   "id": "1f77815e-c662-4825-bcab-1a72e8a89411",
   "metadata": {
    "cell_id": "00099-184f8d9b-faae-42ff-ac52-f870c40963fb",
    "deepnote_cell_type": "code",
    "deepnote_to_be_reexecuted": false,
    "execution_millis": 12,
    "execution_start": 1614339146653,
    "source_hash": "f28b10c0",
    "tags": []
   },
   "outputs": [
    {
     "name": "stdout",
     "output_type": "stream",
     "text": [
      "['3658', '3668', '3673', '3664', '3679', '3683', '3688', '3692', '3721', '3698', '3712', '3705', '3658', '3653', '3650', '3645', '3640', '3635', '3607', '3592', '3550']\n",
      "Gesamtanzahl der Blogbeiträge: \n",
      "21\n",
      "Anzahl der Zeichen des längsten Blogbeitrags: \n",
      "3411\n",
      "Anzahl der Zeichen des kürzsten Blogbeitrags: \n",
      "2144\n",
      "Anzahl der Zeichen der Blogbeiträge im Durchschnit: \n",
      "2710.0\n"
     ]
    }
   ],
   "source": [
    "print(blog_ID_list)\n",
    "print('Gesamtanzahl der Blogbeiträge: ') \n",
    "print(str(len(blog_ID_list)))\n",
    "print('Anzahl der Zeichen des längsten Blogbeitrags: ')\n",
    "print(str(max(article_length_list)))\n",
    "print('Anzahl der Zeichen des kürzsten Blogbeitrags: ')\n",
    "print(str(min(article_length_list)))\n",
    "print('Anzahl der Zeichen der Blogbeiträge im Durchschnit: ')\n",
    "print(str(sum(article_length_list) / len(article_length_list)))"
   ]
  }
 ],
 "metadata": {
  "kernelspec": {
   "display_name": "base2exp",
   "language": "python",
   "name": "base2exp"
  },
  "language_info": {
   "codemirror_mode": {
    "name": "ipython",
    "version": 3
   },
   "file_extension": ".py",
   "mimetype": "text/x-python",
   "name": "python",
   "nbconvert_exporter": "python",
   "pygments_lexer": "ipython3",
   "version": "3.8.12"
  }
 },
 "nbformat": 4,
 "nbformat_minor": 5
}