{
 "cells": [
  {
   "cell_type": "markdown",
   "id": "f25b7ffd-6fa8-4b6a-859b-054bd35c6122",
   "metadata": {
    "cell_id": "00000-efa3a43a-50cc-4b9b-8ba8-553a9d47cda1",
    "deepnote_cell_type": "markdown",
    "tags": []
   },
   "source": [
    "# Datentypen\n",
    "\n",
    "## Zeichenketten / Strings"
   ]
  },
  {
   "cell_type": "code",
   "execution_count": 1,
   "id": "a38ff5cf-3259-45bd-b645-742ce0a7d66d",
   "metadata": {
    "cell_id": "00000-5153ccba-0398-4e3c-864b-d3afdd36b48d",
    "deepnote_cell_type": "code",
    "deepnote_to_be_reexecuted": false,
    "execution_millis": 5,
    "execution_start": 1612966189331,
    "source_hash": "6dacbd1a",
    "tags": []
   },
   "outputs": [
    {
     "name": "stdout",
     "output_type": "stream",
     "text": [
      "Hallo Welt!\n"
     ]
    }
   ],
   "source": [
    "print(\"Hallo Welt!\")"
   ]
  },
  {
   "cell_type": "markdown",
   "id": "bb6a9d15-582b-4a23-baa4-b790362a37aa",
   "metadata": {
    "cell_id": "00002-07028a21-7a91-40b9-9cf2-25b6b5c391c7",
    "deepnote_cell_type": "markdown",
    "tags": []
   },
   "source": [
    "## Konkatenieren"
   ]
  },
  {
   "cell_type": "code",
   "execution_count": 2,
   "id": "478ea978-2e22-4351-b351-8ec12664040c",
   "metadata": {
    "cell_id": "00002-3a7ecff7-83bb-4a64-918b-72adc96e149d",
    "deepnote_cell_type": "code",
    "deepnote_to_be_reexecuted": false,
    "execution_millis": 4,
    "execution_start": 1612966219687,
    "source_hash": "e00000a1",
    "tags": []
   },
   "outputs": [
    {
     "name": "stdout",
     "output_type": "stream",
     "text": [
      "Hallo Welt!\n",
      "Digital History Tagung 2021\n",
      "foofoobar bar bar \n"
     ]
    }
   ],
   "source": [
    "print(\"Hallo \" + \"Welt!\")\n",
    "\n",
    "print(\"Digital History Tagung \" + \"2021\")\n",
    "\n",
    "print(\"foo\" * 2 + \"bar \" * 3)"
   ]
  },
  {
   "cell_type": "markdown",
   "id": "13543638-b2f7-4393-9a99-d9741fd26cc9",
   "metadata": {
    "cell_id": "00004-003d0c22-7840-4f77-b25c-190f9cdbc6cc",
    "deepnote_cell_type": "markdown",
    "tags": []
   },
   "source": [
    "## Variablen"
   ]
  },
  {
   "cell_type": "code",
   "execution_count": 3,
   "id": "c33c38dc-f9a6-4272-b6ab-eaaf992a073a",
   "metadata": {
    "cell_id": "00004-d5e6db57-81fd-49ac-a8d0-57249ca46a4b",
    "deepnote_cell_type": "code",
    "deepnote_to_be_reexecuted": false,
    "execution_millis": 0,
    "execution_start": 1612966270985,
    "source_hash": "e78c47f0",
    "tags": []
   },
   "outputs": [],
   "source": [
    "event = \"Digital History Tagung\"\n",
    "year = 2021"
   ]
  },
  {
   "cell_type": "markdown",
   "id": "6ab754ac-77e5-4dd8-b746-4bc7a92db0ef",
   "metadata": {
    "cell_id": "00006-e3e95dae-2d3c-4bd2-b05e-8394aa86de67",
    "deepnote_cell_type": "markdown",
    "tags": []
   },
   "source": [
    "## f-Strings"
   ]
  },
  {
   "cell_type": "code",
   "execution_count": 4,
   "id": "f247016b-ced6-4252-8659-0f0f40f1a699",
   "metadata": {
    "cell_id": "00008-16c0aef5-05da-47ca-8f89-d2f3a480170b",
    "deepnote_cell_type": "code",
    "deepnote_to_be_reexecuted": false,
    "execution_millis": 17,
    "execution_start": 1612966290692,
    "source_hash": "ca24b454",
    "tags": []
   },
   "outputs": [
    {
     "name": "stdout",
     "output_type": "stream",
     "text": [
      "Die Digital History Tagung findet 2021 statt.\n",
      "Die Digital History Tagung findet 2021 statt.\n"
     ]
    }
   ],
   "source": [
    "print(f\"Die {event} findet {year} statt.\")\n",
    "\n",
    "print(\"Die {} findet {} statt.\".format(event, year))"
   ]
  },
  {
   "cell_type": "markdown",
   "id": "2242727e-b4d7-4174-932b-876e7f269ede",
   "metadata": {
    "cell_id": "00009-8931451d-56cb-449c-9147-9342f10382e4",
    "deepnote_cell_type": "markdown",
    "tags": []
   },
   "source": [
    "## Funktionen und Methoden bei Strings"
   ]
  },
  {
   "cell_type": "code",
   "execution_count": 5,
   "id": "eaa666b1-1b1f-4490-a2be-8c9bf4c1923b",
   "metadata": {
    "cell_id": "00010-14da993f-5b84-48b6-a34b-821bc9c90483",
    "deepnote_cell_type": "code",
    "deepnote_to_be_reexecuted": false,
    "execution_millis": 9,
    "execution_start": 1612966353308,
    "source_hash": "f677ee1a",
    "tags": []
   },
   "outputs": [
    {
     "name": "stdout",
     "output_type": "stream",
     "text": [
      "22\n",
      "22\n",
      "digital history tagung\n",
      "DIGITAL HISTORY TAGUNG\n"
     ]
    }
   ],
   "source": [
    "print(len(event))\n",
    "\n",
    "print(len(\"Digital History Tagung\"))\n",
    "\n",
    "print(event.lower())\n",
    "\n",
    "print(\"Digital History Tagung\".upper())"
   ]
  },
  {
   "cell_type": "markdown",
   "id": "febb4cc7-3bfe-4236-8bf9-2746b359e88f",
   "metadata": {
    "cell_id": "00010-f963d5c9-34b5-4d24-8838-a79895b4da20",
    "deepnote_cell_type": "markdown",
    "tags": []
   },
   "source": [
    "## Listen / Lists"
   ]
  },
  {
   "cell_type": "code",
   "execution_count": 6,
   "id": "01c03dc4-93a2-4384-bae8-1bae0fdd8c8d",
   "metadata": {
    "cell_id": "00012-ef68f56e-742e-4ede-bb08-18ec97d9b168",
    "deepnote_cell_type": "code",
    "deepnote_to_be_reexecuted": false,
    "execution_millis": 1,
    "execution_start": 1612966395163,
    "source_hash": "e60dc2da",
    "tags": []
   },
   "outputs": [],
   "source": [
    "list_1 = [1, 2, 3, 4]\n",
    "\n",
    "list_2 = [\"Banane\", \"Apfel\", \"Birne\"]\n",
    "\n",
    "list_3 = [17, \"Obst\", 23, \"Ball\"]\n",
    "\n",
    "list_4 = [[1, 2, 3,], [\"a\", \"b\", \"c\"], [\"Hallo\", \"Welt\"]]"
   ]
  },
  {
   "cell_type": "markdown",
   "id": "fe1ec5d2-b3d5-4541-9f64-b4fde8b225dc",
   "metadata": {
    "cell_id": "00012-60d4fb23-61ba-4932-8302-00e6774a1eb4",
    "deepnote_cell_type": "markdown",
    "tags": []
   },
   "source": [
    "## Zuordnungen / Dictionaries"
   ]
  },
  {
   "cell_type": "code",
   "execution_count": 7,
   "id": "2f731818-ea28-4cc0-836d-17af63c35d8f",
   "metadata": {
    "cell_id": "00014-51e6da23-f5f9-482f-bba5-af88336e98f5",
    "deepnote_cell_type": "code",
    "deepnote_to_be_reexecuted": false,
    "execution_millis": 3,
    "execution_start": 1612966417961,
    "source_hash": "f80dd54e",
    "tags": []
   },
   "outputs": [],
   "source": [
    "dict_1 = {\"Banane\": 5, \n",
    "          \"Apfel\": 7, \n",
    "          \"Birne\": 9}\n",
    "\n",
    "dict_2 = {\"Vorname\": \"Monty\", \n",
    "          \"Nachname\": \"Python\", \n",
    "          \"Alter\": 48}"
   ]
  },
  {
   "cell_type": "markdown",
   "id": "f4e3c7e9-7ceb-4078-b678-a335c3e2e68f",
   "metadata": {
    "cell_id": "00014-102fa6f7-71cd-4a69-a779-12c050aac0c0",
    "deepnote_cell_type": "markdown",
    "tags": []
   },
   "source": [
    "## Mengen / Sets"
   ]
  },
  {
   "cell_type": "code",
   "execution_count": 8,
   "id": "1237640b-41cd-4210-8ccd-3d53fafb7b16",
   "metadata": {
    "cell_id": "00016-9b5c70c7-d6ed-4ae2-ae59-8ff80422edce",
    "deepnote_cell_type": "code",
    "deepnote_to_be_reexecuted": false,
    "execution_millis": 10,
    "execution_start": 1612966444832,
    "source_hash": "a64c9359",
    "tags": []
   },
   "outputs": [
    {
     "name": "stdout",
     "output_type": "stream",
     "text": [
      "{1, 2, 3, 4, 5}\n"
     ]
    },
    {
     "data": {
      "text/plain": [
       "set"
      ]
     },
     "execution_count": 8,
     "metadata": {},
     "output_type": "execute_result"
    }
   ],
   "source": [
    "menge = {1, 2, 2, 3, 3, 3, 4, 4, 5, 5, 5}\n",
    "\n",
    "print(menge)\n",
    "\n",
    "type(menge)"
   ]
  },
  {
   "cell_type": "markdown",
   "id": "e637be06-1802-4bca-aabc-34eb5f8be643",
   "metadata": {
    "cell_id": "00016-54aabce4-d716-4a7a-88c5-7c6ab4a6f6f5",
    "deepnote_cell_type": "markdown",
    "tags": []
   },
   "source": [
    "## Tuple"
   ]
  },
  {
   "cell_type": "code",
   "execution_count": 9,
   "id": "36aacd06-6bcc-4ab8-81cc-83ad7e4edfb6",
   "metadata": {
    "cell_id": "00018-8cb38d14-d9a3-449f-854e-a9f973a0f6b1",
    "deepnote_cell_type": "code",
    "deepnote_to_be_reexecuted": false,
    "execution_millis": 6,
    "execution_start": 1612966477360,
    "source_hash": "1eb40b7",
    "tags": []
   },
   "outputs": [
    {
     "data": {
      "text/plain": [
       "tuple"
      ]
     },
     "execution_count": 9,
     "metadata": {},
     "output_type": "execute_result"
    }
   ],
   "source": [
    "word_freq = (\"Wort A\", 42)\n",
    "\n",
    "type(word_freq)"
   ]
  },
  {
   "cell_type": "markdown",
   "id": "10090644-f8c8-4bf3-b10a-9aea1b709a29",
   "metadata": {
    "cell_id": "00018-f4de445d-8532-4794-8ab8-2ba4638c1d60",
    "deepnote_cell_type": "markdown",
    "tags": []
   },
   "source": [
    "## Indexieren von Strings"
   ]
  },
  {
   "cell_type": "code",
   "execution_count": 10,
   "id": "6398534c-c340-447a-8576-8c9eb3ed864e",
   "metadata": {
    "cell_id": "00020-dd489d0d-82a2-4b07-97f2-7c29f4f7e626",
    "deepnote_cell_type": "code",
    "deepnote_to_be_reexecuted": false,
    "execution_millis": 8,
    "execution_start": 1612966516261,
    "source_hash": "8d4632af",
    "tags": []
   },
   "outputs": [
    {
     "name": "stdout",
     "output_type": "stream",
     "text": [
      "i\n",
      "D\n",
      "H\n"
     ]
    }
   ],
   "source": [
    "print(\"Digital History Tagung\"[1])\n",
    "\n",
    "print(\"Digital History Tagung\"[0])\n",
    "\n",
    "print(\"Digital History Tagung\"[8])"
   ]
  },
  {
   "cell_type": "markdown",
   "id": "ef1645a6-2162-4106-8d07-50401f197c63",
   "metadata": {
    "cell_id": "00020-b2ead146-af48-4ba2-b82c-8368c115f8e5",
    "deepnote_cell_type": "markdown",
    "tags": []
   },
   "source": [
    "## Slicing"
   ]
  },
  {
   "cell_type": "code",
   "execution_count": 11,
   "id": "16dfcdcc-b318-4325-a528-7bf786348e83",
   "metadata": {
    "cell_id": "00022-369b25b7-24c3-4dfe-8989-ff043fe29edb",
    "deepnote_cell_type": "code",
    "deepnote_to_be_reexecuted": false,
    "execution_millis": 7,
    "execution_start": 1612966549125,
    "source_hash": "9f2317ff",
    "tags": []
   },
   "outputs": [
    {
     "name": "stdout",
     "output_type": "stream",
     "text": [
      "Digital Hi\n",
      "ita\n"
     ]
    }
   ],
   "source": [
    "print(\"Digital History Tagung\"[0:10])\n",
    "\n",
    "print(\"Digital History Tagung\"[3:6])"
   ]
  },
  {
   "cell_type": "markdown",
   "id": "9eeda537-b507-4fb1-81c5-c3bf592b90f1",
   "metadata": {
    "cell_id": "00022-0d91a10e-5b6e-42e0-a4de-43c7ac1aeaea",
    "deepnote_cell_type": "markdown",
    "tags": []
   },
   "source": [
    "## Indexieren von Listen"
   ]
  },
  {
   "cell_type": "code",
   "execution_count": 12,
   "id": "436fee4d-45e0-4f9f-bed8-0facf47835b8",
   "metadata": {
    "cell_id": "00024-3f9bbb6d-11f1-46e8-8335-c0f3a33fd823",
    "deepnote_cell_type": "code",
    "deepnote_to_be_reexecuted": false,
    "execution_millis": 4,
    "execution_start": 1612966616727,
    "source_hash": "c6a82c",
    "tags": []
   },
   "outputs": [
    {
     "name": "stdout",
     "output_type": "stream",
     "text": [
      "Birne\n",
      "Banane\n"
     ]
    }
   ],
   "source": [
    "list_2 = [\"Banane\", \"Apfel\", \"Birne\"]\n",
    "\n",
    "print(list_2[2])\n",
    "\n",
    "print(list_2[0])"
   ]
  },
  {
   "cell_type": "markdown",
   "id": "8f41541f-2faa-4133-bdbd-edae41d202f1",
   "metadata": {
    "cell_id": "00024-26addb84-b7a4-4eab-868d-2f87974623c3",
    "deepnote_cell_type": "markdown",
    "tags": []
   },
   "source": [
    "## Funktionen und Methoden bei Listen"
   ]
  },
  {
   "cell_type": "code",
   "execution_count": 13,
   "id": "a80a8205-da0b-4d80-8b1c-8e4d57544049",
   "metadata": {
    "cell_id": "00026-17a95239-5d10-489c-b637-db942d04b90d",
    "deepnote_cell_type": "code",
    "deepnote_to_be_reexecuted": false,
    "execution_millis": 8,
    "execution_start": 1612966677986,
    "source_hash": "107c6284",
    "tags": []
   },
   "outputs": [
    {
     "name": "stdout",
     "output_type": "stream",
     "text": [
      "3\n"
     ]
    },
    {
     "data": {
      "text/plain": [
       "'Apfel'"
      ]
     },
     "execution_count": 13,
     "metadata": {},
     "output_type": "execute_result"
    }
   ],
   "source": [
    "print(len(list_2))\n",
    "\n",
    "list_2.append(\"Ananas\")\n",
    "\n",
    "list_2.pop(1)"
   ]
  },
  {
   "cell_type": "markdown",
   "id": "0b938b65-8a8b-41bc-b66b-f938d3d79e97",
   "metadata": {
    "cell_id": "00026-8a5aa560-d563-4be3-9ef8-19f374d9b018",
    "deepnote_cell_type": "markdown",
    "tags": []
   },
   "source": [
    "## Zugriff auf Dictionaries"
   ]
  },
  {
   "cell_type": "code",
   "execution_count": 14,
   "id": "b866c220-49f3-445b-8e23-3fe437769a2b",
   "metadata": {
    "cell_id": "00028-5dc5e5d5-e0a0-4bcc-91a3-5db109b20324",
    "deepnote_cell_type": "code",
    "deepnote_to_be_reexecuted": false,
    "execution_millis": 5,
    "execution_start": 1612966743991,
    "source_hash": "aaa3d043",
    "tags": []
   },
   "outputs": [
    {
     "name": "stdout",
     "output_type": "stream",
     "text": [
      "5\n",
      "dict_keys(['Banane', 'Apfel', 'Birne'])\n",
      "dict_values([5, 7, 9])\n",
      "21\n"
     ]
    }
   ],
   "source": [
    "dict_1 = {\"Banane\": 5, \"Apfel\": 7, \"Birne\": 9}\n",
    "\n",
    "print(dict_1[\"Banane\"])\n",
    "\n",
    "print(dict_1.keys())\n",
    "\n",
    "print(dict_1.values())\n",
    "\n",
    "print(sum(dict_1.values()))"
   ]
  },
  {
   "cell_type": "markdown",
   "id": "655b97bd-ce8b-4107-94bd-ade9a63a1e2c",
   "metadata": {
    "cell_id": "00028-e2ec2b3e-b631-47cd-b64a-9a77de025646",
    "deepnote_cell_type": "markdown",
    "tags": []
   },
   "source": [
    "## Logische Ausdrücke"
   ]
  },
  {
   "cell_type": "code",
   "execution_count": 15,
   "id": "e717720f-3b93-42ec-b906-b686c3d7348e",
   "metadata": {
    "cell_id": "00030-5946c3e9-caf5-4650-aa1d-ca59d470acc5",
    "deepnote_cell_type": "code",
    "deepnote_to_be_reexecuted": false,
    "execution_millis": 10,
    "execution_start": 1612966808710,
    "source_hash": "918b4e4f",
    "tags": []
   },
   "outputs": [
    {
     "name": "stdout",
     "output_type": "stream",
     "text": [
      "True\n",
      "False\n",
      "False\n",
      "True\n"
     ]
    }
   ],
   "source": [
    "print(5 > 3)\n",
    "\n",
    "print(5 > 7)\n",
    "\n",
    "print(\"Mauer\" == \"Haus\")\n",
    "\n",
    "print(\"Mauer\" != \"Haus\")"
   ]
  },
  {
   "cell_type": "markdown",
   "id": "b09c85cf-c4f1-460b-98b8-239492b6e8f3",
   "metadata": {
    "cell_id": "00030-0afc08f0-48d6-4ffd-8b97-6f5a8dfbd560",
    "deepnote_cell_type": "markdown",
    "tags": []
   },
   "source": [
    "## Logische Ausdrücke: and, or"
   ]
  },
  {
   "cell_type": "code",
   "execution_count": 16,
   "id": "355429f3-ea6c-4c5e-a185-705eb8d9c843",
   "metadata": {
    "cell_id": "00032-e163fd5e-3249-4249-9462-2bb61cc29c45",
    "deepnote_cell_type": "code",
    "deepnote_to_be_reexecuted": false,
    "execution_millis": 39,
    "execution_start": 1612966846845,
    "source_hash": "f7736134",
    "tags": []
   },
   "outputs": [
    {
     "name": "stdout",
     "output_type": "stream",
     "text": [
      "True\n",
      "False\n",
      "True\n",
      "False\n"
     ]
    }
   ],
   "source": [
    "print(5 > 3 and \"Mauer\" != \"Haus\")\n",
    "\n",
    "print(5 > 3 and \"Mauer\" == \"Haus\")\n",
    "\n",
    "print(5 > 3 or \"Mauer\" == \"Haus\")\n",
    "\n",
    "print(5 > 7 or \"Mauer\" == \"Haus\")"
   ]
  },
  {
   "cell_type": "markdown",
   "id": "4ed75fdf-bf3e-4579-8c04-d2f601864fe4",
   "metadata": {
    "cell_id": "00033-e3fa2ad4-99ea-4752-8f5d-0dfe5b3f2f78",
    "deepnote_cell_type": "markdown",
    "tags": []
   },
   "source": [
    "## User-Input Skript"
   ]
  },
  {
   "cell_type": "code",
   "execution_count": 17,
   "id": "5c63f0ea-edf9-4f1b-9262-7fbf0cfd2ebb",
   "metadata": {
    "cell_id": "00033-56dbb2f6-4691-4446-975c-0d741feb564e",
    "deepnote_cell_type": "code",
    "deepnote_to_be_reexecuted": false,
    "execution_millis": 18941,
    "execution_start": 1612967026711,
    "source_hash": "54bd10db",
    "tags": []
   },
   "outputs": [
    {
     "ename": "StdinNotImplementedError",
     "evalue": "raw_input was called, but this frontend does not support input requests.",
     "output_type": "error",
     "traceback": [
      "\u001b[1;31m---------------------------------------------------------------------------\u001b[0m",
      "\u001b[1;31mStdinNotImplementedError\u001b[0m                  Traceback (most recent call last)",
      "\u001b[1;32m~\\AppData\\Local\\Temp/ipykernel_15976/4096632491.py\u001b[0m in \u001b[0;36m<module>\u001b[1;34m\u001b[0m\n\u001b[0;32m      1\u001b[0m \u001b[1;31m# Eingabe Name\u001b[0m\u001b[1;33m\u001b[0m\u001b[1;33m\u001b[0m\u001b[1;33m\u001b[0m\u001b[0m\n\u001b[1;32m----> 2\u001b[1;33m \u001b[0mname\u001b[0m \u001b[1;33m=\u001b[0m \u001b[0minput\u001b[0m\u001b[1;33m(\u001b[0m\u001b[1;34m\"Wie heißt du? >>>\"\u001b[0m\u001b[1;33m)\u001b[0m\u001b[1;33m\u001b[0m\u001b[1;33m\u001b[0m\u001b[0m\n\u001b[0m\u001b[0;32m      3\u001b[0m \u001b[1;33m\u001b[0m\u001b[0m\n\u001b[0;32m      4\u001b[0m \u001b[1;31m# Eingabe Alter\u001b[0m\u001b[1;33m\u001b[0m\u001b[1;33m\u001b[0m\u001b[1;33m\u001b[0m\u001b[0m\n\u001b[0;32m      5\u001b[0m \u001b[0malter\u001b[0m \u001b[1;33m=\u001b[0m \u001b[0minput\u001b[0m\u001b[1;33m(\u001b[0m\u001b[1;34m\"Wie alt bist du? >>>\"\u001b[0m\u001b[1;33m)\u001b[0m\u001b[1;33m\u001b[0m\u001b[1;33m\u001b[0m\u001b[0m\n",
      "\u001b[1;32mC:\\JupyterLab\\resources\\jlab_server\\lib\\site-packages\\ipykernel\\kernelbase.py\u001b[0m in \u001b[0;36mraw_input\u001b[1;34m(self, prompt)\u001b[0m\n\u001b[0;32m   1001\u001b[0m         \"\"\"\n\u001b[0;32m   1002\u001b[0m         \u001b[1;32mif\u001b[0m \u001b[1;32mnot\u001b[0m \u001b[0mself\u001b[0m\u001b[1;33m.\u001b[0m\u001b[0m_allow_stdin\u001b[0m\u001b[1;33m:\u001b[0m\u001b[1;33m\u001b[0m\u001b[1;33m\u001b[0m\u001b[0m\n\u001b[1;32m-> 1003\u001b[1;33m             raise StdinNotImplementedError(\n\u001b[0m\u001b[0;32m   1004\u001b[0m                 \u001b[1;34m\"raw_input was called, but this frontend does not support input requests.\"\u001b[0m\u001b[1;33m\u001b[0m\u001b[1;33m\u001b[0m\u001b[0m\n\u001b[0;32m   1005\u001b[0m             )\n",
      "\u001b[1;31mStdinNotImplementedError\u001b[0m: raw_input was called, but this frontend does not support input requests."
     ]
    }
   ],
   "source": [
    "# Eingabe Name\n",
    "name = input(\"Wie heißt du? >>>\")\n",
    "\n",
    "# Eingabe Alter\n",
    "alter = input(\"Wie alt bist du? >>>\")\n",
    "\n",
    "# Eingabe Wohnort\n",
    "ort = input(\"Wo wohnst du? >>>\")\n",
    "\n",
    "jahr = 2021 - int(alter)\n",
    "\n",
    "# Ausgabe\n",
    "print(f\"\"\"\n",
    "\\nHallo {name}, schön, dass du da bist!\\n\n",
    "Du bist {jahr} geboren.\\n\n",
    "{ort} ist der beste Ort auf dem Planeten.\"\"\")"
   ]
  }
 ],
 "metadata": {
  "kernelspec": {
   "display_name": "base2exp",
   "language": "python",
   "name": "base2exp"
  },
  "language_info": {
   "codemirror_mode": {
    "name": "ipython",
    "version": 3
   },
   "file_extension": ".py",
   "mimetype": "text/x-python",
   "name": "python",
   "nbconvert_exporter": "python",
   "pygments_lexer": "ipython3",
   "version": "3.8.12"
  }
 },
 "nbformat": 4,
 "nbformat_minor": 5
}