{
 "cells": [
  {
   "cell_type": "markdown",
   "id": "d6e563d2-05c0-4c6a-826f-82400a36611a",
   "metadata": {
    "cell_id": "00033-2120042f-6253-4eaf-8f3b-6173389db26b",
    "deepnote_cell_type": "markdown",
    "tags": []
   },
   "source": [
    "# error handling und Kontrollstrukturen"
   ]
  },
  {
   "cell_type": "markdown",
   "id": "a8e0e353-cf2f-4620-acbe-dbf61bb3d4c4",
   "metadata": {
    "cell_id": "00035-014bcdd4-e01e-45ec-a340-5ecb4399ce1c",
    "deepnote_cell_type": "markdown",
    "tags": []
   },
   "source": [
    "## Fehlerbehandlung / error handling"
   ]
  },
  {
   "cell_type": "code",
   "execution_count": 1,
   "id": "ad422877-3c88-45b3-b1d1-bd55a1315fea",
   "metadata": {
    "cell_id": "00035-3b354d6b-7a33-49f3-a8f8-94c80f0a649c",
    "deepnote_cell_type": "code",
    "deepnote_to_be_reexecuted": false,
    "execution_millis": 6,
    "execution_start": 1612967074815,
    "source_hash": "2cff25d4",
    "tags": []
   },
   "outputs": [
    {
     "ename": "SyntaxError",
     "evalue": "unexpected EOF while parsing (Temp/ipykernel_26372/380194409.py, line 1)",
     "output_type": "error",
     "traceback": [
      "\u001b[1;36m  File \u001b[1;32m\"C:\\Users\\nitra\\AppData\\Local\\Temp/ipykernel_26372/380194409.py\"\u001b[1;36m, line \u001b[1;32m1\u001b[0m\n\u001b[1;33m    print(\"Hallo Welt!\"\u001b[0m\n\u001b[1;37m                       ^\u001b[0m\n\u001b[1;31mSyntaxError\u001b[0m\u001b[1;31m:\u001b[0m unexpected EOF while parsing\n"
     ]
    }
   ],
   "source": [
    "print(\"Hallo Welt!\""
   ]
  },
  {
   "cell_type": "code",
   "execution_count": null,
   "id": "bb0b9b0d-cea7-4d3a-8783-1632d1a5b181",
   "metadata": {
    "cell_id": "00037-e2be03e4-9ec3-49d1-8213-4d7b83775420",
    "deepnote_cell_type": "code",
    "deepnote_to_be_reexecuted": false,
    "execution_millis": 6,
    "execution_start": 1612967093379,
    "source_hash": "c40b0a42",
    "tags": []
   },
   "outputs": [
    {
     "ename": "SyntaxError",
     "evalue": "invalid syntax (<ipython-input-21-a12e79ce3754>, line 1)",
     "output_type": "error",
     "traceback": [
      "\u001b[0;36m  File \u001b[0;32m\"<ipython-input-21-a12e79ce3754>\"\u001b[0;36m, line \u001b[0;32m1\u001b[0m\n\u001b[0;31m    for x in range(10)\u001b[0m\n\u001b[0m                      ^\u001b[0m\n\u001b[0;31mSyntaxError\u001b[0m\u001b[0;31m:\u001b[0m invalid syntax\n"
     ]
    }
   ],
   "source": [
    "for x in range(10)"
   ]
  },
  {
   "cell_type": "code",
   "execution_count": null,
   "id": "2c288166-a94a-4950-a6c0-f15806834672",
   "metadata": {
    "cell_id": "00038-494d7e67-288e-4a20-9cb1-24e078287874",
    "deepnote_cell_type": "code",
    "deepnote_to_be_reexecuted": false,
    "execution_millis": 10,
    "execution_start": 1612967111472,
    "source_hash": "d58198e5",
    "tags": []
   },
   "outputs": [
    {
     "ename": "IndentationError",
     "evalue": "expected an indented block (<ipython-input-22-790af6e00d9b>, line 2)",
     "output_type": "error",
     "traceback": [
      "\u001b[0;36m  File \u001b[0;32m\"<ipython-input-22-790af6e00d9b>\"\u001b[0;36m, line \u001b[0;32m2\u001b[0m\n\u001b[0;31m    print(x)\u001b[0m\n\u001b[0m        ^\u001b[0m\n\u001b[0;31mIndentationError\u001b[0m\u001b[0;31m:\u001b[0m expected an indented block\n"
     ]
    }
   ],
   "source": [
    "for x in range(10):\n",
    "print(x)"
   ]
  },
  {
   "cell_type": "markdown",
   "id": "5d4fb527-6a4c-42bf-840d-799bfc19b2fd",
   "metadata": {
    "cell_id": "00037-94319048-bfd0-49bc-945a-0a4b3b357877",
    "deepnote_cell_type": "markdown",
    "tags": []
   },
   "source": [
    "## help() Function"
   ]
  },
  {
   "cell_type": "code",
   "execution_count": null,
   "id": "d9e226aa-6e60-44b6-b458-cd4b57d1f768",
   "metadata": {
    "cell_id": "00040-ea5b9653-e420-408a-9e26-2754735789fc",
    "deepnote_cell_type": "code",
    "deepnote_to_be_reexecuted": false,
    "execution_millis": 5,
    "execution_start": 1612967135583,
    "source_hash": "f589c7c2",
    "tags": []
   },
   "outputs": [
    {
     "name": "stdout",
     "output_type": "stream",
     "text": [
      "Help on built-in function len in module builtins:\n",
      "\n",
      "len(obj, /)\n",
      "    Return the number of items in a container.\n",
      "\n"
     ]
    }
   ],
   "source": [
    "help(len)"
   ]
  },
  {
   "cell_type": "markdown",
   "id": "eb0c4da9-98b4-44ce-a768-343a950c6a83",
   "metadata": {
    "cell_id": "00040-d7576bae-4b93-43fe-b96d-d4b1bc3da0b0",
    "deepnote_cell_type": "markdown",
    "tags": []
   },
   "source": [
    "## Kontrollstrukturen\n",
    "\n",
    "## For-Schleife"
   ]
  },
  {
   "cell_type": "code",
   "execution_count": null,
   "id": "ca66c7df-dc2c-4a96-944d-b27402c60818",
   "metadata": {
    "cell_id": "00042-6d5d4cac-24e0-45e7-b980-14f4752c15bc",
    "deepnote_cell_type": "code",
    "deepnote_to_be_reexecuted": false,
    "execution_millis": 9,
    "execution_start": 1612967373006,
    "source_hash": "e0869c3c",
    "tags": []
   },
   "outputs": [
    {
     "name": "stdout",
     "output_type": "stream",
     "text": [
      "0\n",
      "1\n",
      "2\n",
      "3\n",
      "4\n",
      "5\n",
      "6\n",
      "7\n",
      "8\n",
      "9\n"
     ]
    }
   ],
   "source": [
    "for x in range(10):\n",
    "   print(x)"
   ]
  },
  {
   "cell_type": "markdown",
   "id": "533a2b1f-4241-49ad-b229-ec24b3e3eb15",
   "metadata": {
    "cell_id": "00042-5bb4d709-d0e8-49ff-b228-bc0a8b7a09c1",
    "deepnote_cell_type": "markdown",
    "tags": []
   },
   "source": [
    "## While-Schleife"
   ]
  },
  {
   "cell_type": "code",
   "execution_count": null,
   "id": "d3a2b526-a25f-48bf-be68-1e21f573d2ff",
   "metadata": {
    "cell_id": "00044-3247fad3-a16f-48d7-892f-aa5070a74bbd",
    "deepnote_cell_type": "code",
    "deepnote_to_be_reexecuted": false,
    "execution_millis": 6,
    "execution_start": 1612967408635,
    "source_hash": "b8131084",
    "tags": []
   },
   "outputs": [
    {
     "name": "stdout",
     "output_type": "stream",
     "text": [
      "10\n",
      "9\n",
      "8\n",
      "7\n",
      "6\n",
      "5\n",
      "4\n",
      "3\n",
      "2\n",
      "1\n"
     ]
    }
   ],
   "source": [
    "x = 10\n",
    "while x > 0:\n",
    "    print(x)\n",
    "    x -= 1"
   ]
  },
  {
   "cell_type": "markdown",
   "id": "6255352d-4a39-48f1-821e-c3713891c4c8",
   "metadata": {
    "cell_id": "00044-530a1a62-f4b8-4d80-b753-58a4f42d8e97",
    "deepnote_cell_type": "markdown",
    "tags": []
   },
   "source": [
    "## If-Anweisung"
   ]
  },
  {
   "cell_type": "code",
   "execution_count": null,
   "id": "5bbb48e1-17ad-467a-8e1e-80c820eb8a9a",
   "metadata": {
    "cell_id": "00046-7d34fd2e-4086-40f4-8dfb-3d0eed571eab",
    "deepnote_cell_type": "code",
    "deepnote_to_be_reexecuted": false,
    "execution_millis": 17,
    "execution_start": 1612967446075,
    "source_hash": "e2dc2fe3",
    "tags": []
   },
   "outputs": [
    {
     "name": "stdout",
     "output_type": "stream",
     "text": [
      "1 ist eine ungerade Zahl.\n",
      "2 ist eine gerade Zahl.\n",
      "3 ist eine ungerade Zahl.\n",
      "4 ist eine gerade Zahl.\n",
      "5 ist eine ungerade Zahl.\n",
      "6 ist eine gerade Zahl.\n",
      "7 ist eine ungerade Zahl.\n",
      "8 ist eine gerade Zahl.\n",
      "9 ist eine ungerade Zahl.\n",
      "10 ist eine gerade Zahl.\n"
     ]
    }
   ],
   "source": [
    "for x in range(1, 11):\n",
    "    if x % 2 == 0:\n",
    "        print(f\"{x} ist eine gerade Zahl.\")\n",
    "    else:\n",
    "        print(f\"{x} ist eine ungerade Zahl.\")"
   ]
  },
  {
   "cell_type": "markdown",
   "id": "8f58f8b2-d7e8-4b47-ab88-1d231808a870",
   "metadata": {
    "cell_id": "00046-2b2a7abf-79a0-4ecf-8589-4d6569e55900",
    "deepnote_cell_type": "markdown",
    "tags": []
   },
   "source": [
    "## Dateien lesen 1"
   ]
  },
  {
   "cell_type": "code",
   "execution_count": null,
   "id": "6cdb23c3-668b-42f9-ac8d-b43e1bde6c24",
   "metadata": {
    "cell_id": "00048-f5944379-a5ac-423c-ba32-2fcde5784834",
    "deepnote_cell_type": "code",
    "tags": []
   },
   "outputs": [],
   "source": [
    "f = open(\"DATEI.txt\", \"r\", encoding=\"utf-8\")\n",
    "text = f.read()\n",
    "f.close()"
   ]
  },
  {
   "cell_type": "markdown",
   "id": "ea760cbc-c32f-4408-bf57-490f44261cf3",
   "metadata": {
    "cell_id": "00049-3c79983b-52db-41d3-8511-398b395b9ab4",
    "deepnote_cell_type": "markdown",
    "tags": []
   },
   "source": [
    "## Dateien lesen 2"
   ]
  },
  {
   "cell_type": "code",
   "execution_count": null,
   "id": "8f35772b-865e-407c-9e28-b9e7a34fba39",
   "metadata": {
    "cell_id": "00049-866bf195-5b2a-4878-8832-c5ff85cc9e95",
    "deepnote_cell_type": "code",
    "tags": []
   },
   "outputs": [],
   "source": [
    "with open(\"DATEI.txt\", \"r\", encoding=\"utf-8\") as f:\n",
    "    text = f.read()"
   ]
  },
  {
   "cell_type": "markdown",
   "id": "2e0b94f2-8d4c-4f3c-bf91-a7c078baa15e",
   "metadata": {
    "cell_id": "00051-38526dff-40c2-41d2-b1fc-9538060339ce",
    "deepnote_cell_type": "markdown",
    "tags": []
   },
   "source": [
    "## I/O Parameter\n",
    "\n",
    "* \"r\" = read / lesen\n",
    "* \"w\" = write / schreiben\n",
    "* \"a\" = append / anhängen"
   ]
  },
  {
   "cell_type": "markdown",
   "id": "56199816-f24c-49be-ba89-afa604aca8a1",
   "metadata": {
    "cell_id": "00048-cdecb09d-b42c-4874-bb6b-26ceeb43d60a",
    "deepnote_cell_type": "markdown",
    "tags": []
   },
   "source": [
    "## Kommentar"
   ]
  },
  {
   "cell_type": "code",
   "execution_count": null,
   "id": "dc188043-6ffc-4222-ae99-19dd2bfa8261",
   "metadata": {
    "cell_id": "00053-7b1a6334-b99b-4592-b133-f892f009d204",
    "deepnote_cell_type": "code",
    "deepnote_to_be_reexecuted": false,
    "execution_millis": 1,
    "execution_start": 1612967582499,
    "source_hash": "c1b0f7ec",
    "tags": []
   },
   "outputs": [],
   "source": [
    "# Dies ist ein Kommentar"
   ]
  }
 ],
 "metadata": {
  "kernelspec": {
   "display_name": "base2exp",
   "language": "python",
   "name": "base2exp"
  },
  "language_info": {
   "codemirror_mode": {
    "name": "ipython",
    "version": 3
   },
   "file_extension": ".py",
   "mimetype": "text/x-python",
   "name": "python",
   "nbconvert_exporter": "python",
   "pygments_lexer": "ipython3",
   "version": "3.8.12"
  }
 },
 "nbformat": 4,
 "nbformat_minor": 5
}